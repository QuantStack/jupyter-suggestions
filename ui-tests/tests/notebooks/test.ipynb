{
 "cells": [
  {
   "cell_type": "code",
   "execution_count": null,
   "id": "b9356f9a-ea42-4050-a3a9-5684edd6bf18",
   "metadata": {},
   "outputs": [],
   "source": [
    "def foo():\n",
    "    print(123)\n",
    "    return 0"
   ]
  },
  {
   "cell_type": "markdown",
   "id": "3ff6c3ec-e344-4262-818a-a1ced33c3cac",
   "metadata": {},
   "source": [
    "## This is a markdown cell"
   ]
  },
  {
   "cell_type": "raw",
   "id": "dadedd23-c079-4149-8db6-c8e305e55462",
   "metadata": {},
   "source": [
    "This a a raw cell"
   ]
  }
 ],
 "metadata": {
  "kernelspec": {
   "display_name": "Python 3 (ipykernel)",
   "language": "python",
   "name": "python3"
  },
  "language_info": {
   "codemirror_mode": {
    "name": "ipython",
    "version": 3
   },
   "file_extension": ".py",
   "mimetype": "text/x-python",
   "name": "python",
   "nbconvert_exporter": "python",
   "pygments_lexer": "ipython3",
   "version": "3.11.11"
  }
 },
 "nbformat": 4,
 "nbformat_minor": 5
}
